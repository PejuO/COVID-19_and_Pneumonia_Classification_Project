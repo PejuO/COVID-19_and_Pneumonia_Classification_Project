{
 "cells": [
  {
   "cell_type": "markdown",
   "metadata": {},
   "source": [
    "## COVID-19 and Pneumonia Classification with Deep Learning Project\n",
    "The purpose of this project is develop a learning model that supports doctors with diagnosing illnesses that affect patients’ lungs. This project uses  X-ray lung scans with examples of patients who had either pneumonia, Covid-19, or no illness. The data was downloaded from Kaggle (https://www.kaggle.com/pranavraikokte/covid19-image-dataset). Keras was used to create a classification model that outputs a diagnosis based on the patient's X-ray scan."
   ]
  },
  {
   "cell_type": "code",
   "execution_count": 1,
   "metadata": {},
   "outputs": [],
   "source": [
    "import tensorflow as tf\n",
    "from tensorflow import keras\n",
    "from tensorflow.keras.models import Sequential\n",
    "from tensorflow.keras.preprocessing.image import ImageDataGenerator\n",
    "\n",
    "from tensorflow.keras.callbacks import EarlyStopping\n",
    "from tensorflow.keras import layers\n",
    "\n",
    "import matplotlib.pyplot as plt\n",
    "#import app\n",
    "import numpy as np\n",
    "from sklearn.metrics import classification_report\n",
    "from sklearn.metrics import confusion_matrix"
   ]
  },
  {
   "cell_type": "markdown",
   "metadata": {},
   "source": [
    "## Load Image Data"
   ]
  },
  {
   "cell_type": "code",
   "execution_count": 2,
   "metadata": {},
   "outputs": [
    {
     "name": "stdout",
     "output_type": "stream",
     "text": [
      "Found 251 images belonging to 3 classes.\n"
     ]
    }
   ],
   "source": [
    "DIRECTORY_train = r'C:\\Users\\DaReaders\\Desktop\\Path to Data Science\\Deep Learning\\Covid19-dataset\\train'\n",
    "DIRECTORY_test = r'C:\\Users\\DaReaders\\Desktop\\Path to Data Science\\Deep Learning\\Covid19-dataset\\test'\n",
    "BATCH_SIZE = 16\n",
    "\n",
    "#Load Training data\n",
    "training_data_generator = ImageDataGenerator(rescale = 1.0/255, zoom_range=0.2, rotation_range = 15, width_shift_range =0.05, height_shift_range = 0.05)\n",
    "\n",
    "training_iterator = training_data_generator.flow_from_directory(DIRECTORY_train,\n",
    "class_mode=\"sparse\",\n",
    "color_mode=\"grayscale\",\n",
    "target_size=(256,256),\n",
    "batch_size=BATCH_SIZE)\n",
    "\n",
    "\n",
    "\n"
   ]
  },
  {
   "cell_type": "markdown",
   "metadata": {},
   "source": [
    "# Load training data"
   ]
  },
  {
   "cell_type": "code",
   "execution_count": 3,
   "metadata": {},
   "outputs": [
    {
     "name": "stdout",
     "output_type": "stream",
     "text": [
      "Found 251 images belonging to 3 classes.\n"
     ]
    }
   ],
   "source": [
    "training_data_generator = ImageDataGenerator(rescale = 1.0/255, zoom_range=0.2, rotation_range = 15, \n",
    "                                             width_shift_range =0.05, height_shift_range = 0.05)\n",
    "\n",
    "training_iterator = training_data_generator.flow_from_directory(DIRECTORY_train,class_mode='categorical',\n",
    "color_mode=\"grayscale\",\n",
    "target_size=(256,256),\n",
    "batch_size=BATCH_SIZE)"
   ]
  },
  {
   "cell_type": "markdown",
   "metadata": {},
   "source": [
    "# Load test data"
   ]
  },
  {
   "cell_type": "code",
   "execution_count": 4,
   "metadata": {},
   "outputs": [
    {
     "name": "stdout",
     "output_type": "stream",
     "text": [
      "Found 66 images belonging to 3 classes.\n"
     ]
    }
   ],
   "source": [
    "validation_data_generator = ImageDataGenerator(rescale = 1.0/255)\n",
    "validation_iterator = validation_data_generator.flow_from_directory(DIRECTORY_test,class_mode='categorical',\n",
    "                                                                    color_mode='grayscale',batch_size=BATCH_SIZE)"
   ]
  },
  {
   "cell_type": "markdown",
   "metadata": {},
   "source": [
    "## Create classification neural network model"
   ]
  },
  {
   "cell_type": "code",
   "execution_count": 5,
   "metadata": {},
   "outputs": [
    {
     "name": "stdout",
     "output_type": "stream",
     "text": [
      "Model: \"sequential\"\n",
      "_________________________________________________________________\n",
      "Layer (type)                 Output Shape              Param #   \n",
      "=================================================================\n",
      "conv2d (Conv2D)              (None, 84, 84, 2)         52        \n",
      "_________________________________________________________________\n",
      "max_pooling2d (MaxPooling2D) (None, 28, 28, 2)         0         \n",
      "_________________________________________________________________\n",
      "dropout (Dropout)            (None, 28, 28, 2)         0         \n",
      "_________________________________________________________________\n",
      "conv2d_1 (Conv2D)            (None, 26, 26, 4)         76        \n",
      "_________________________________________________________________\n",
      "max_pooling2d_1 (MaxPooling2 (None, 8, 8, 4)           0         \n",
      "_________________________________________________________________\n",
      "dropout_1 (Dropout)          (None, 8, 8, 4)           0         \n",
      "_________________________________________________________________\n",
      "flatten (Flatten)            (None, 256)               0         \n",
      "_________________________________________________________________\n",
      "dense (Dense)                (None, 3)                 771       \n",
      "=================================================================\n",
      "Total params: 899\n",
      "Trainable params: 899\n",
      "Non-trainable params: 0\n",
      "_________________________________________________________________\n"
     ]
    }
   ],
   "source": [
    "model = Sequential()\n",
    "model.add(layers.Input(shape=training_iterator.image_shape))\n",
    "#model.add(layers.Conv2D(4, 3, activation='relu'))\n",
    "model.add(tf.keras.layers.Conv2D(2, 5, strides=3, activation=\"relu\")) \n",
    "model.add(layers.MaxPooling2D(pool_size=(3,3), strides=3))\n",
    "model.add(layers.Dropout(0.1))\n",
    "model.add(layers.Conv2D(4, 3, activation='relu'))\n",
    "model.add(layers.MaxPooling2D(pool_size=(3,3), strides=3))\n",
    "model.add(layers.Dropout(0.2))\n",
    "model.add(layers.Flatten())\n",
    "model.add(layers.Dense(3,activation='softmax'))\n",
    "\n",
    "model.summary()"
   ]
  },
  {
   "cell_type": "markdown",
   "metadata": {},
   "source": [
    "# Compile the model with an Adam optimizer, Categorical Cross Entropy Loss, and Accuracy and AUC metrics"
   ]
  },
  {
   "cell_type": "code",
   "execution_count": 6,
   "metadata": {},
   "outputs": [],
   "source": [
    "model.compile(\n",
    "    optimizer=tf.keras.optimizers.Adam(learning_rate=0.005),\n",
    "    loss=tf.keras.losses.CategoricalCrossentropy(),\n",
    "    metrics=[tf.keras.metrics.CategoricalAccuracy(),tf.keras.metrics.AUC()]\n",
    ")"
   ]
  },
  {
   "cell_type": "markdown",
   "metadata": {},
   "source": [
    "# Train and validate the model"
   ]
  },
  {
   "cell_type": "code",
   "execution_count": 7,
   "metadata": {},
   "outputs": [
    {
     "name": "stdout",
     "output_type": "stream",
     "text": [
      "Epoch 1/5\n",
      "16/15 [==============================] - 3s 167ms/step - loss: 1.0982 - categorical_accuracy: 0.4382 - auc: 0.5381 - val_loss: 1.0947 - val_categorical_accuracy: 0.3939 - val_auc: 0.5758\n",
      "Epoch 2/5\n",
      "16/15 [==============================] - 2s 146ms/step - loss: 1.0862 - categorical_accuracy: 0.4582 - auc: 0.6127 - val_loss: 1.0834 - val_categorical_accuracy: 0.3939 - val_auc: 0.6292\n",
      "Epoch 3/5\n",
      "16/15 [==============================] - 2s 147ms/step - loss: 1.0226 - categorical_accuracy: 0.5976 - auc: 0.7663 - val_loss: 0.9216 - val_categorical_accuracy: 0.8636 - val_auc: 0.9404\n",
      "Epoch 4/5\n",
      "16/15 [==============================] - 2s 154ms/step - loss: 0.7518 - categorical_accuracy: 0.7331 - auc: 0.8882 - val_loss: 0.7622 - val_categorical_accuracy: 0.5455 - val_auc: 0.8170\n",
      "Epoch 5/5\n",
      "16/15 [==============================] - 2s 150ms/step - loss: 0.6154 - categorical_accuracy: 0.7331 - auc: 0.8951 - val_loss: 0.5210 - val_categorical_accuracy: 0.7424 - val_auc: 0.9231\n"
     ]
    }
   ],
   "source": [
    "es = tf.keras.callbacks.EarlyStopping(monitor='val_auc', patience=20)\n",
    "history = model.fit(\n",
    "        training_iterator,\n",
    "        steps_per_epoch=training_iterator.samples/BATCH_SIZE,\n",
    "        epochs=5,\n",
    "        validation_data=validation_iterator,\n",
    "        validation_steps=validation_iterator.samples/BATCH_SIZE, callbacks=[es])"
   ]
  },
  {
   "cell_type": "markdown",
   "metadata": {},
   "source": [
    "## Plot the cross-entropy loss for both the train and validation data over each epoch"
   ]
  },
  {
   "cell_type": "code",
   "execution_count": 8,
   "metadata": {},
   "outputs": [
    {
     "data": {
      "image/png": "[encoded data removed]",
      "text/plain": [
       "<Figure size 432x288 with 2 Axes>"
      ]
     },
     "metadata": {
      "needs_background": "light"
     },
     "output_type": "display_data"
    }
   ],
   "source": [
    "# plotting categorical and validation accuracy over epochs\n",
    "fig = plt.figure()\n",
    "ax1 = fig.add_subplot(2, 1, 1)\n",
    "ax1.plot(history.history['categorical_accuracy'])\n",
    "ax1.plot(history.history['val_categorical_accuracy'])\n",
    "ax1.set_title('model accuracy')\n",
    "ax1.set_xlabel('epoch')\n",
    "ax1.set_ylabel('accuracy')\n",
    "ax1.legend(['train', 'validation'], loc='upper left')\n",
    "\n",
    "ax2 = fig.add_subplot(2, 1, 2)\n",
    "ax2.plot(history.history['auc'])\n",
    "ax2.plot(history.history['val_auc'])\n",
    "ax2.set_title('model auc')\n",
    "ax2.set_xlabel('epoch')\n",
    "ax2.set_ylabel('auc')\n",
    "ax2.legend(['train', 'validation'], loc='upper left')\n",
    " \n",
    "# used to keep plots from overlapping\n",
    "fig.tight_layout()\n",
    "\n",
    "plt.show()"
   ]
  }
 ],
 "metadata": {
  "kernelspec": {
   "display_name": "Python 3",
   "language": "python",
   "name": "python3"
  },
  "language_info": {
   "codemirror_mode": {
    "name": "ipython",
    "version": 3
   },
   "file_extension": ".py",
   "mimetype": "text/x-python",
   "name": "python",
   "nbconvert_exporter": "python",
   "pygments_lexer": "ipython3",
   "version": "3.8.3"
  }
 },
 "nbformat": 4,
 "nbformat_minor": 4
}
